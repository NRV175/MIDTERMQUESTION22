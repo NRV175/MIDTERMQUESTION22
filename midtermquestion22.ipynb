{
 "cells": [
  {
   "cell_type": "code",
   "execution_count": 1,
   "id": "7d9eefd9-b139-43dc-a591-14875935e800",
   "metadata": {},
   "outputs": [
    {
     "name": "stdout",
     "output_type": "stream",
     "text": [
      "SQL Query Result:\n",
      "   id\n",
      "0   2\n",
      "1   4\n",
      "\n",
      "Python Solution Result:\n",
      "0    2\n",
      "1    4\n",
      "Name: id, dtype: int64\n"
     ]
    }
   ],
   "source": [
    "\n",
    "import pandas as pd\n",
    "import sqlite3\n",
    "\n",
    "\n",
    "conn = sqlite3.connect(':memory:')\n",
    "\n",
    "\n",
    "create_table_query = '''\n",
    "CREATE TABLE Weather (\n",
    "    id INT PRIMARY KEY,\n",
    "    recordDate DATE,\n",
    "    temperature INT\n",
    ");\n",
    "'''\n",
    "conn.execute(create_table_query)\n",
    "\n",
    "\n",
    "insert_data_query = '''\n",
    "INSERT INTO Weather (id, recordDate, temperature) VALUES\n",
    "(1, '2015-01-01', 10),\n",
    "(2, '2015-01-02', 25),\n",
    "(3, '2015-01-03', 20),\n",
    "(4, '2015-01-04', 30);\n",
    "'''\n",
    "conn.execute(insert_data_query)\n",
    "conn.commit()\n",
    "\n",
    "\n",
    "sql_query = '''\n",
    "SELECT w1.id\n",
    "FROM Weather w1\n",
    "JOIN Weather w2 ON w1.recordDate = DATE(w2.recordDate, '+1 day')\n",
    "WHERE w1.temperature > w2.temperature;\n",
    "'''\n",
    "\n",
    "\n",
    "result_sql = pd.read_sql_query(sql_query, conn)\n",
    "print(\"SQL Query Result:\")\n",
    "print(result_sql)\n",
    "\n",
    "\n",
    "\n",
    "df = pd.DataFrame({\n",
    "    'id': [1, 2, 3, 4],\n",
    "    'recordDate': pd.to_datetime(['2015-01-01', '2015-01-02', '2015-01-03', '2015-01-04']),\n",
    "    'temperature': [10, 25, 20, 30]\n",
    "})\n",
    "\n",
    "\n",
    "df['prev_temperature'] = df['temperature'].shift(1)\n",
    "df['prev_date'] = df['recordDate'].shift(1)\n",
    "\n",
    "\n",
    "result_python = df[df['temperature'] > df['prev_temperature']]['id'].reset_index(drop=True)\n",
    "print(\"\\nPython Solution Result:\")\n",
    "print(result_python)\n"
   ]
  },
  {
   "cell_type": "code",
   "execution_count": null,
   "id": "166ab3e6-6655-4f4e-a63d-acafbe346a4d",
   "metadata": {},
   "outputs": [],
   "source": []
  }
 ],
 "metadata": {
  "kernelspec": {
   "display_name": "Python 3 (ipykernel)",
   "language": "python",
   "name": "python3"
  },
  "language_info": {
   "codemirror_mode": {
    "name": "ipython",
    "version": 3
   },
   "file_extension": ".py",
   "mimetype": "text/x-python",
   "name": "python",
   "nbconvert_exporter": "python",
   "pygments_lexer": "ipython3",
   "version": "3.12.4"
  }
 },
 "nbformat": 4,
 "nbformat_minor": 5
}
